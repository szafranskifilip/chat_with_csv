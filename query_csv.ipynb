{
 "cells": [
  {
   "cell_type": "code",
   "execution_count": 1,
   "metadata": {},
   "outputs": [
    {
     "name": "stdout",
     "output_type": "stream",
     "text": [
      "CSV data has been imported into the SQLite database.\n"
     ]
    }
   ],
   "source": [
    "import sqlite3\n",
    "import pandas as pd\n",
    "\n",
    "# Path to your CSV file\n",
    "csv_file_path = 'data/github_final.csv'\n",
    "# Name of the SQLite database\n",
    "sqlite_db_path = 'data/github_final.db'\n",
    "\n",
    "# Read CSV file into a DataFrame\n",
    "df = pd.read_csv(csv_file_path)\n",
    "\n",
    "# Connect to SQLite database\n",
    "conn = sqlite3.connect(sqlite_db_path)\n",
    "\n",
    "# Write the data to SQLite table\n",
    "df.to_sql('github_final', conn, if_exists='replace', index=False)\n",
    "\n",
    "# Commit changes and close the connection\n",
    "conn.commit()\n",
    "conn.close()\n",
    "\n",
    "print(\"CSV data has been imported into the SQLite database.\")"
   ]
  },
  {
   "cell_type": "code",
   "execution_count": 2,
   "metadata": {},
   "outputs": [
    {
     "data": {
      "text/html": [
       "<div>\n",
       "<style scoped>\n",
       "    .dataframe tbody tr th:only-of-type {\n",
       "        vertical-align: middle;\n",
       "    }\n",
       "\n",
       "    .dataframe tbody tr th {\n",
       "        vertical-align: top;\n",
       "    }\n",
       "\n",
       "    .dataframe thead th {\n",
       "        text-align: right;\n",
       "    }\n",
       "</style>\n",
       "<table border=\"1\" class=\"dataframe\">\n",
       "  <thead>\n",
       "    <tr style=\"text-align: right;\">\n",
       "      <th></th>\n",
       "      <th>name</th>\n",
       "      <th>full_name</th>\n",
       "      <th>topics</th>\n",
       "      <th>description</th>\n",
       "      <th>created_at</th>\n",
       "      <th>stargazers_count</th>\n",
       "      <th>forks_count</th>\n",
       "      <th>license</th>\n",
       "      <th>days_since_created</th>\n",
       "      <th>avg_forks_per_day</th>\n",
       "      <th>avg_stars_per_day</th>\n",
       "      <th>categories</th>\n",
       "    </tr>\n",
       "  </thead>\n",
       "  <tbody>\n",
       "    <tr>\n",
       "      <th>0</th>\n",
       "      <td>langchain</td>\n",
       "      <td>langchain-ai/langchain</td>\n",
       "      <td>no topic</td>\n",
       "      <td>🦜🔗 Build context-aware reasoning applications</td>\n",
       "      <td>2022-10-17</td>\n",
       "      <td>81425</td>\n",
       "      <td>12434</td>\n",
       "      <td>MIT License</td>\n",
       "      <td>540</td>\n",
       "      <td>23.0</td>\n",
       "      <td>151.0</td>\n",
       "      <td>Applications</td>\n",
       "    </tr>\n",
       "    <tr>\n",
       "      <th>1</th>\n",
       "      <td>ChatGPT-Next-Web</td>\n",
       "      <td>ChatGPTNextWeb/ChatGPT-Next-Web</td>\n",
       "      <td>chatgpt, cross-platform, desktop, fe, gemini, ...</td>\n",
       "      <td>A cross-platform ChatGPT/Gemini UI (Web / PWA ...</td>\n",
       "      <td>2023-03-10</td>\n",
       "      <td>66548</td>\n",
       "      <td>54259</td>\n",
       "      <td>MIT License</td>\n",
       "      <td>396</td>\n",
       "      <td>137.0</td>\n",
       "      <td>168.0</td>\n",
       "      <td>Applications</td>\n",
       "    </tr>\n",
       "    <tr>\n",
       "      <th>2</th>\n",
       "      <td>awesome-machine-learning</td>\n",
       "      <td>josephmisiti/awesome-machine-learning</td>\n",
       "      <td>no topic</td>\n",
       "      <td>A curated list of awesome Machine Learning fra...</td>\n",
       "      <td>2014-07-15</td>\n",
       "      <td>63304</td>\n",
       "      <td>14447</td>\n",
       "      <td>Other</td>\n",
       "      <td>3556</td>\n",
       "      <td>4.0</td>\n",
       "      <td>18.0</td>\n",
       "      <td>Lists</td>\n",
       "    </tr>\n",
       "    <tr>\n",
       "      <th>3</th>\n",
       "      <td>awesome-cpp</td>\n",
       "      <td>fffaraz/awesome-cpp</td>\n",
       "      <td>awesome, awesome-list, c, c-plus-plus, cpp, cp...</td>\n",
       "      <td>A curated list of awesome C++ (or C) framework...</td>\n",
       "      <td>2014-07-17</td>\n",
       "      <td>55101</td>\n",
       "      <td>7613</td>\n",
       "      <td>MIT License</td>\n",
       "      <td>3554</td>\n",
       "      <td>2.0</td>\n",
       "      <td>16.0</td>\n",
       "      <td>Lists</td>\n",
       "    </tr>\n",
       "    <tr>\n",
       "      <th>4</th>\n",
       "      <td>llama.cpp</td>\n",
       "      <td>ggerganov/llama.cpp</td>\n",
       "      <td>ggml, llama</td>\n",
       "      <td>LLM inference in C/C++</td>\n",
       "      <td>2023-03-10</td>\n",
       "      <td>54581</td>\n",
       "      <td>7703</td>\n",
       "      <td>MIT License</td>\n",
       "      <td>396</td>\n",
       "      <td>19.0</td>\n",
       "      <td>138.0</td>\n",
       "      <td>Tutorials</td>\n",
       "    </tr>\n",
       "  </tbody>\n",
       "</table>\n",
       "</div>"
      ],
      "text/plain": [
       "                       name                              full_name  \\\n",
       "0                 langchain                 langchain-ai/langchain   \n",
       "1          ChatGPT-Next-Web        ChatGPTNextWeb/ChatGPT-Next-Web   \n",
       "2  awesome-machine-learning  josephmisiti/awesome-machine-learning   \n",
       "3               awesome-cpp                    fffaraz/awesome-cpp   \n",
       "4                 llama.cpp                    ggerganov/llama.cpp   \n",
       "\n",
       "                                              topics  \\\n",
       "0                                           no topic   \n",
       "1  chatgpt, cross-platform, desktop, fe, gemini, ...   \n",
       "2                                           no topic   \n",
       "3  awesome, awesome-list, c, c-plus-plus, cpp, cp...   \n",
       "4                                        ggml, llama   \n",
       "\n",
       "                                         description  created_at  \\\n",
       "0      🦜🔗 Build context-aware reasoning applications  2022-10-17   \n",
       "1  A cross-platform ChatGPT/Gemini UI (Web / PWA ...  2023-03-10   \n",
       "2  A curated list of awesome Machine Learning fra...  2014-07-15   \n",
       "3  A curated list of awesome C++ (or C) framework...  2014-07-17   \n",
       "4                             LLM inference in C/C++  2023-03-10   \n",
       "\n",
       "   stargazers_count  forks_count      license  days_since_created  \\\n",
       "0             81425        12434  MIT License                 540   \n",
       "1             66548        54259  MIT License                 396   \n",
       "2             63304        14447        Other                3556   \n",
       "3             55101         7613  MIT License                3554   \n",
       "4             54581         7703  MIT License                 396   \n",
       "\n",
       "   avg_forks_per_day  avg_stars_per_day    categories  \n",
       "0               23.0              151.0  Applications  \n",
       "1              137.0              168.0  Applications  \n",
       "2                4.0               18.0         Lists  \n",
       "3                2.0               16.0         Lists  \n",
       "4               19.0              138.0     Tutorials  "
      ]
     },
     "execution_count": 2,
     "metadata": {},
     "output_type": "execute_result"
    }
   ],
   "source": [
    "df.head()"
   ]
  },
  {
   "cell_type": "code",
   "execution_count": 3,
   "metadata": {},
   "outputs": [],
   "source": [
    "from langchain_community.utilities.sql_database import SQLDatabase\n",
    "\n",
    "db = SQLDatabase.from_uri(\"sqlite:///data/github_final.db\")"
   ]
  },
  {
   "cell_type": "code",
   "execution_count": 4,
   "metadata": {},
   "outputs": [
    {
     "name": "stdout",
     "output_type": "stream",
     "text": [
      "SELECT \"name\", \"forks_count\"\n",
      "FROM github_final\n",
      "ORDER BY \"forks_count\" DESC\n",
      "LIMIT 10;\n"
     ]
    }
   ],
   "source": [
    "from langchain.chains import create_sql_query_chain\n",
    "from langchain_core.prompts import PromptTemplate\n",
    "from langchain_openai import ChatOpenAI\n",
    "\n",
    "prompt_write_query=PromptTemplate.from_template(\n",
    "    template=\"\"\"You are a SQLite expert. Given an input question, first create a syntactically correct SQLite query to run, then look at the results of the query and return the answer to the input question.\n",
    "    Unless the user specifies in the question a specific number of examples to obtain, query for at most {top_k} results using the LIMIT clause as per SQLite. You can order the results to return the most informative data in the database.\n",
    "    Never query for all columns from a table. You must query only the columns that are needed to answer the question. Wrap each column name in double quotes (\") to denote them as delimited identifiers.\n",
    "    \n",
    "    Pay attention to use only the column names you can see in the tables below. Be careful to not query for columns that do not exist. Also, pay attention to which column is in which table.\n",
    "    Pay attention to use date(\\'now\\') function to get the current date, if the question involves \"today\".\n",
    "    \n",
    "    Use the following format:\n",
    "    \n",
    "    Question: Question here\n",
    "    SQLQuery: SQL Query to run\n",
    "    SQLResult: Result of the SQLQuery\n",
    "    Answer: Final answer here\n",
    "    \n",
    "    Only use the following tables:\n",
    "    {table_info}\n",
    "    \n",
    "    Question: {input}\"\"\")\n",
    "\n",
    "llm = ChatOpenAI(model=\"gpt-3.5-turbo-0125\", temperature=0)\n",
    "\n",
    "chain = create_sql_query_chain(\n",
    "    llm, \n",
    "    db,\n",
    "    prompt_write_query,\n",
    "    k=5)\n",
    "\n",
    "response = chain.invoke({\"question\": \"Which project has the most forks? List top 10\"})\n",
    "print(response)"
   ]
  },
  {
   "cell_type": "code",
   "execution_count": 5,
   "metadata": {},
   "outputs": [
    {
     "data": {
      "text/plain": [
       "\"[('ChatGPT-Next-Web', 54259), ('generative-ai-for-beginners', 21598), ('awesome-machine-learning', 14447), ('langchain', 12434), ('Flowise', 11784), ('llama.cpp', 7703), ('awesome-cpp', 7613), ('private-gpt', 6804), ('chatgpt-on-wechat', 6622), ('lobe-chat', 5941)]\""
      ]
     },
     "execution_count": 5,
     "metadata": {},
     "output_type": "execute_result"
    }
   ],
   "source": [
    "db.run(response)"
   ]
  },
  {
   "cell_type": "code",
   "execution_count": 6,
   "metadata": {},
   "outputs": [
    {
     "data": {
      "text/plain": [
       "\"[('ChatGPT-Next-Web', 54259), ('generative-ai-for-beginners', 21598), ('awesome-machine-learning', 14447), ('langchain', 12434), ('Flowise', 11784), ('llama.cpp', 7703), ('awesome-cpp', 7613), ('private-gpt', 6804), ('chatgpt-on-wechat', 6622), ('lobe-chat', 5941)]\""
      ]
     },
     "execution_count": 6,
     "metadata": {},
     "output_type": "execute_result"
    }
   ],
   "source": [
    "from langchain_community.tools.sql_database.tool import QuerySQLDataBaseTool\n",
    "\n",
    "execute_query = QuerySQLDataBaseTool(db=db)\n",
    "write_query = create_sql_query_chain(llm, db)\n",
    "chain = write_query | execute_query\n",
    "chain.invoke({\"question\": \"Which project has the most forks? List  top 10\"})"
   ]
  },
  {
   "cell_type": "code",
   "execution_count": 9,
   "metadata": {},
   "outputs": [
    {
     "data": {
      "text/plain": [
       "'The top 10 repositories with the highest number of forks are:\\n\\n1. ChatGPT-Next-Web with 54,259 forks\\n2. generative-ai-for-beginners with 21,598 forks\\n3. awesome-machine-learning with 14,447 forks\\n4. langchain with 12,434 forks\\n5. Flowise with 11,784 forks\\n6. llama.cpp with 7,703 forks\\n7. awesome-cpp with 7,613 forks\\n8. private-gpt with 6,804 forks\\n9. chatgpt-on-wechat with 6,622 forks\\n10. lobe-chat with 5,941 forks'"
      ]
     },
     "execution_count": 9,
     "metadata": {},
     "output_type": "execute_result"
    }
   ],
   "source": [
    "from operator import itemgetter\n",
    "\n",
    "from langchain_core.output_parsers import StrOutputParser\n",
    "from langchain_core.prompts import PromptTemplate\n",
    "from langchain_core.runnables import RunnablePassthrough\n",
    "\n",
    "prompt_query_answer = PromptTemplate.from_template(\n",
    "    \"\"\"Given the following user question, corresponding SQL query, and SQL result, answer the user question.\n",
    "\n",
    "Question: {question}\n",
    "SQL Query: {query}\n",
    "SQL Result: {result}\n",
    "Answer: \"\"\"\n",
    ")\n",
    "\n",
    "answer = prompt_query_answer | llm | StrOutputParser()\n",
    "chain = (\n",
    "    RunnablePassthrough.assign(query=write_query).assign(\n",
    "        result=itemgetter(\"query\") | execute_query\n",
    "    )\n",
    "    | answer\n",
    ")\n",
    "\n",
    "chain.invoke({\"question\": \"List top 10 which the highest number of forks\"})"
   ]
  },
  {
   "cell_type": "code",
   "execution_count": null,
   "metadata": {},
   "outputs": [],
   "source": []
  }
 ],
 "metadata": {
  "kernelspec": {
   "display_name": "llama8.venv",
   "language": "python",
   "name": "python3"
  },
  "language_info": {
   "codemirror_mode": {
    "name": "ipython",
    "version": 3
   },
   "file_extension": ".py",
   "mimetype": "text/x-python",
   "name": "python",
   "nbconvert_exporter": "python",
   "pygments_lexer": "ipython3",
   "version": "3.11.4"
  }
 },
 "nbformat": 4,
 "nbformat_minor": 2
}
